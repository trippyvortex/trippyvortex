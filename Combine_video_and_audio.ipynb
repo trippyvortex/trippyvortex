{
  "nbformat": 4,
  "nbformat_minor": 0,
  "metadata": {
    "colab": {
      "private_outputs": true,
      "provenance": [],
      "authorship_tag": "ABX9TyPjwo1ZRlDDqLKF6eNjLahP",
      "include_colab_link": true
    },
    "kernelspec": {
      "name": "python3",
      "display_name": "Python 3"
    },
    "language_info": {
      "name": "python"
    }
  },
  "cells": [
    {
      "cell_type": "markdown",
      "metadata": {
        "id": "view-in-github",
        "colab_type": "text"
      },
      "source": [
        "<a href=\"https://colab.research.google.com/github/trippyvortex/trippyvortex/blob/main/Combine_video_and_audio.ipynb\" target=\"_parent\"><img src=\"https://colab.research.google.com/assets/colab-badge.svg\" alt=\"Open In Colab\"/></a>"
      ]
    },
    {
      "cell_type": "code",
      "execution_count": null,
      "metadata": {
        "id": "BDlg3ONwE9Jf"
      },
      "outputs": [],
      "source": [
        "# Install necessary libraries\n",
        "!pip install moviepy\n",
        "\n",
        "# Import necessary libraries\n",
        "from moviepy.editor import VideoFileClip, AudioFileClip\n",
        "\n",
        "# Function to upload files in Google Colab\n",
        "from google.colab import files\n",
        "\n",
        "def upload_files():\n",
        "    uploaded = files.upload()\n",
        "    for filename in uploaded.keys():\n",
        "        print(f'Uploaded file \"{filename}\"')\n",
        "    return list(uploaded.keys())\n",
        "\n",
        "# Upload video file\n",
        "print(\"Please upload your video file:\")\n",
        "video_files = upload_files()\n",
        "video_file = video_files[0]\n",
        "\n",
        "# Upload audio file\n",
        "print(\"Please upload your audio file:\")\n",
        "audio_files = upload_files()\n",
        "audio_file = audio_files[0]\n",
        "\n",
        "# Load the video and audio files\n",
        "video_clip = VideoFileClip(video_file)\n",
        "audio_clip = AudioFileClip(audio_file)\n",
        "\n",
        "# Cut the audio to match the video duration if necessary\n",
        "if audio_clip.duration > video_clip.duration:\n",
        "    audio_clip = audio_clip.subclip(0, video_clip.duration)\n",
        "\n",
        "# Combine video and audio\n",
        "final_clip = video_clip.set_audio(audio_clip)\n",
        "\n",
        "# Define the output file name\n",
        "output_file = 'final_output.mp4'\n",
        "\n",
        "# Write the result to a file\n",
        "final_clip.write_videofile(output_file, codec='libx264')\n",
        "\n",
        "print(f\"The combined video has been saved as {output_file}\")\n"
      ]
    }
  ]
}